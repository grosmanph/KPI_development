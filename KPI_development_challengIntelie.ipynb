{
 "cells": [
  {
   "cell_type": "markdown",
   "id": "e5ce17fc",
   "metadata": {},
   "source": [
    "# Developing a KPI to the Slip-to-Slip Connection Time in a Drilling Operation"
   ]
  },
  {
   "cell_type": "markdown",
   "id": "7d62eb34",
   "metadata": {},
   "source": [
    "## Summary"
   ]
  },
  {
   "cell_type": "markdown",
   "id": "fcdaadcc",
   "metadata": {},
   "source": [
    "I delivered here a complete data-driven solution to monitor crew performance in drilling operations from an Oil & Gas company. The performance is measured according to the time taken to perform the slip-to-slip connection.\n",
    "\n",
    "After a careful exploratory data analysis, I selected relevant measurements that come from a variety of sensors to create a machine learning model that is able to reliably categorize whether the slips are holding the upper part of a drill pipe. Since sensors give the timestamp for each measurement, after predicting the slips state, we can calculate the time it took for the crew to complete the process of connecting pipes.\n",
    "\n",
    "This solution provides an automated way to monitor the crew performance saving the company time, and money."
   ]
  },
  {
   "cell_type": "markdown",
   "id": "ca962830",
   "metadata": {},
   "source": [
    "## Introduction"
   ]
  },
  {
   "cell_type": "markdown",
   "id": "68bb2176",
   "metadata": {},
   "source": [
    "Measurement of performance is vital to business success and most performance studies are\n",
    "related to the so-called key performance indicators (KPI). A KPI measures how well the\n",
    "organization is performing on operational, tactical or strategic activities. This is critical for the\n",
    "current and future success of the organization.\n",
    "\n",
    "In the Oil and Gas industry, a KPI can be used to monitor and measure operational quality and\n",
    "crew performance. In a Drilling operation, the process where a hole is bored using a drill bit to\n",
    "create a well for oil and natural gas production, an example of KPI is the Slip to Slip connection\n",
    "time. This KPI can offer significant improvements in identifying sources of Non-Productive time.\n",
    "\n",
    "The slip is a device used to grip and hold the upper part of a drill pipe to the drill floor, which is\n",
    "the area where the pipe begins its trip into the earth. The Slips are used when making a\n",
    "connection: the pipes are joined in order to advance further into the hole. Therefore, each pipe\n",
    "is picked up by a hook, temporarily gripped by the slips and then joined to another pipe. After\n",
    "the joint, the slips are removed and the entire pipe is carefully lowered into the hole, resuming\n",
    "the drilling. A skilled rig crew can physically accomplish all of those steps in a minute or two.\n",
    "\n",
    "In this challenge, my goal is to perform an Exploratory Data Analysis to extract useful\n",
    "information for the development of the above-mentioned KPI. Further, I need to create an ML model to monitor the performance of the rig crew in a drilling operation. "
   ]
  },
  {
   "cell_type": "markdown",
   "id": "4d3bf52a",
   "metadata": {},
   "source": [
    "## Getting Started"
   ]
  },
  {
   "cell_type": "code",
   "execution_count": 1,
   "id": "b92c5129",
   "metadata": {},
   "outputs": [],
   "source": [
    "## --- data visualization and data structues libraries\n",
    "import pandas as pd\n",
    "import numpy as np\n",
    "import seaborn as sns\n",
    "import matplotlib.pyplot as plt\n",
    "\n",
    "## --- preprocessing libraries\n",
    "from sklearn.preprocessing import StandardScaler, LabelEncoder\n",
    "from sklearn.model_selection import train_test_split, GridSearchCV, KFold\n",
    "from sklearn.pipeline import make_pipeline\n",
    "\n",
    "## --- machine learning libraries (supervised)\n",
    "from sklearn.ensemble import RandomForestClassifier\n",
    "from sklearn.linear_model import LogisticRegression\n",
    "from sklearn.svm import SVC\n",
    "from sklearn.naive_bayes import GaussianNB\n",
    "from xgboost import XGBClassifier\n",
    "from lightgbm import LGBMClassifier\n",
    "from sklearn.decomposition import PCA\n",
    "\n",
    "## --- machine learning libraries (unsupervised)\n",
    "from sklearn.neighbors import NearestNeighbors\n",
    "from sklearn.cluster import KMeans\n",
    "\n",
    "\n",
    "## --- evaluation metrics\n",
    "from sklearn.metrics import confusion_matrix, classification_report\n",
    "from sklearn.metrics import accuracy_score, recall_score, precision_score, f1_score\n",
    "\n",
    "\n",
    "import pickle\n",
    "\n",
    "## --- handy user-defined functions\n",
    "from subroutines import reduce_mem_usage, display_feat_import, tryconvert\n",
    "from subroutines import display_percent_count_plot, cf_matrix_labels, dist_medians\n",
    "import warnings\n",
    "warnings.filterwarnings('ignore')\n",
    "\n",
    "sns.set_style('darkgrid')"
   ]
  },
  {
   "cell_type": "markdown",
   "id": "e2b87cc9",
   "metadata": {},
   "source": [
    "#### First look"
   ]
  },
  {
   "cell_type": "markdown",
   "id": "4e7dc37b",
   "metadata": {},
   "source": [
    "First, we have a look at the received dataset so that we can get familiarized with the features and data types. "
   ]
  },
  {
   "cell_type": "code",
   "execution_count": 2,
   "id": "ac3c85e1",
   "metadata": {},
   "outputs": [
    {
     "name": "stdout",
     "output_type": "stream",
     "text": [
      "Memory usage of dataframe is 2.79 MB\n"
     ]
    },
    {
     "data": {
      "application/vnd.jupyter.widget-view+json": {
       "model_id": "af64fe7fbccd4b0ebb9c4d3d4ef9c28c",
       "version_major": 2,
       "version_minor": 0
      },
      "text/plain": [
       "  0%|          | 0/8 [00:00<?, ?it/s]"
      ]
     },
     "metadata": {},
     "output_type": "display_data"
    },
    {
     "name": "stdout",
     "output_type": "stream",
     "text": [
      "Memory usage after optimization is: 0.93 MB\n",
      "Decreased by 66.7%\n"
     ]
    },
    {
     "data": {
      "text/html": [
       "<div>\n",
       "<style scoped>\n",
       "    .dataframe tbody tr th:only-of-type {\n",
       "        vertical-align: middle;\n",
       "    }\n",
       "\n",
       "    .dataframe tbody tr th {\n",
       "        vertical-align: top;\n",
       "    }\n",
       "\n",
       "    .dataframe thead th {\n",
       "        text-align: right;\n",
       "    }\n",
       "</style>\n",
       "<table border=\"1\" class=\"dataframe\">\n",
       "  <thead>\n",
       "    <tr style=\"text-align: right;\">\n",
       "      <th></th>\n",
       "      <th>BDEP</th>\n",
       "      <th>TPO</th>\n",
       "      <th>HL</th>\n",
       "      <th>BHT</th>\n",
       "      <th>RPM</th>\n",
       "      <th>TOR</th>\n",
       "      <th>DEPT</th>\n",
       "      <th>WOB</th>\n",
       "    </tr>\n",
       "  </thead>\n",
       "  <tbody>\n",
       "    <tr>\n",
       "      <th>1.607131e+12</th>\n",
       "      <td>5064.0</td>\n",
       "      <td>19.546875</td>\n",
       "      <td>522.5</td>\n",
       "      <td>18.984375</td>\n",
       "      <td>0.0</td>\n",
       "      <td>0.0</td>\n",
       "      <td>5796.0</td>\n",
       "      <td>13.382812</td>\n",
       "    </tr>\n",
       "    <tr>\n",
       "      <th>1.607131e+12</th>\n",
       "      <td>5064.0</td>\n",
       "      <td>15.585938</td>\n",
       "      <td>523.0</td>\n",
       "      <td>19.062500</td>\n",
       "      <td>0.0</td>\n",
       "      <td>0.0</td>\n",
       "      <td>5796.0</td>\n",
       "      <td>12.726562</td>\n",
       "    </tr>\n",
       "    <tr>\n",
       "      <th>1.607131e+12</th>\n",
       "      <td>5064.0</td>\n",
       "      <td>18.484375</td>\n",
       "      <td>524.5</td>\n",
       "      <td>19.156250</td>\n",
       "      <td>0.0</td>\n",
       "      <td>0.0</td>\n",
       "      <td>5796.0</td>\n",
       "      <td>11.453125</td>\n",
       "    </tr>\n",
       "    <tr>\n",
       "      <th>1.607131e+12</th>\n",
       "      <td>5064.0</td>\n",
       "      <td>16.109375</td>\n",
       "      <td>525.0</td>\n",
       "      <td>19.250000</td>\n",
       "      <td>0.0</td>\n",
       "      <td>0.0</td>\n",
       "      <td>5796.0</td>\n",
       "      <td>10.843750</td>\n",
       "    </tr>\n",
       "    <tr>\n",
       "      <th>1.607131e+12</th>\n",
       "      <td>5064.0</td>\n",
       "      <td>17.703125</td>\n",
       "      <td>526.0</td>\n",
       "      <td>19.343750</td>\n",
       "      <td>0.0</td>\n",
       "      <td>0.0</td>\n",
       "      <td>5796.0</td>\n",
       "      <td>9.812500</td>\n",
       "    </tr>\n",
       "  </tbody>\n",
       "</table>\n",
       "</div>"
      ],
      "text/plain": [
       "                BDEP        TPO     HL        BHT  RPM  TOR    DEPT        WOB\n",
       "1.607131e+12  5064.0  19.546875  522.5  18.984375  0.0  0.0  5796.0  13.382812\n",
       "1.607131e+12  5064.0  15.585938  523.0  19.062500  0.0  0.0  5796.0  12.726562\n",
       "1.607131e+12  5064.0  18.484375  524.5  19.156250  0.0  0.0  5796.0  11.453125\n",
       "1.607131e+12  5064.0  16.109375  525.0  19.250000  0.0  0.0  5796.0  10.843750\n",
       "1.607131e+12  5064.0  17.703125  526.0  19.343750  0.0  0.0  5796.0   9.812500"
      ]
     },
     "execution_count": 2,
     "metadata": {},
     "output_type": "execute_result"
    }
   ],
   "source": [
    "df = reduce_mem_usage(pd.read_csv('./input/challenge_data.csv', engine='c', index_col=0))\n",
    "df.head(5)"
   ]
  },
  {
   "cell_type": "code",
   "execution_count": 3,
   "id": "ff6af77e",
   "metadata": {},
   "outputs": [],
   "source": [
    "annot = pd.read_csv('./input/challenge_annotation.csv', engine='c', index_col=0)"
   ]
  },
  {
   "cell_type": "code",
   "execution_count": 4,
   "id": "8047c7f9",
   "metadata": {},
   "outputs": [
    {
     "data": {
      "text/plain": [
       "BDEP    float16\n",
       "TPO     float16\n",
       "HL      float16\n",
       "BHT     float16\n",
       "RPM     float16\n",
       "TOR     float16\n",
       "DEPT    float16\n",
       "WOB     float16\n",
       "dtype: object"
      ]
     },
     "execution_count": 4,
     "metadata": {},
     "output_type": "execute_result"
    }
   ],
   "source": [
    "df.dtypes"
   ]
  },
  {
   "cell_type": "code",
   "execution_count": 5,
   "id": "05ab1a36",
   "metadata": {},
   "outputs": [
    {
     "data": {
      "text/plain": [
       "Annotation    object\n",
       "dtype: object"
      ]
     },
     "execution_count": 5,
     "metadata": {},
     "output_type": "execute_result"
    }
   ],
   "source": [
    "annot.dtypes"
   ]
  },
  {
   "cell_type": "code",
   "execution_count": 6,
   "id": "f1882d57",
   "metadata": {},
   "outputs": [],
   "source": [
    "## --- converting types to reduce memory usage\n",
    "df['BDEP'] = df['BDEP'].astype('int')"
   ]
  },
  {
   "cell_type": "markdown",
   "id": "a6588deb",
   "metadata": {},
   "source": [
    "Now we look for columns that contain at least one missing value. If so, we check the percentage of occurrence of these values in certain columns. "
   ]
  },
  {
   "cell_type": "code",
   "execution_count": 7,
   "id": "7c8e2415",
   "metadata": {},
   "outputs": [
    {
     "name": "stdout",
     "output_type": "stream",
     "text": [
      "There may be some inconsistency.\n"
     ]
    }
   ],
   "source": [
    "if df.isna().any().sum()==0:\n",
    "    print('There is no missing values in the dataset.')\n",
    "else:\n",
    "    print('There may be some inconsistency.')"
   ]
  },
  {
   "cell_type": "code",
   "execution_count": 8,
   "id": "34c4822d",
   "metadata": {},
   "outputs": [
    {
     "data": {
      "text/html": [
       "<div>\n",
       "<style scoped>\n",
       "    .dataframe tbody tr th:only-of-type {\n",
       "        vertical-align: middle;\n",
       "    }\n",
       "\n",
       "    .dataframe tbody tr th {\n",
       "        vertical-align: top;\n",
       "    }\n",
       "\n",
       "    .dataframe thead th {\n",
       "        text-align: right;\n",
       "    }\n",
       "</style>\n",
       "<table border=\"1\" class=\"dataframe\">\n",
       "  <thead>\n",
       "    <tr style=\"text-align: right;\">\n",
       "      <th></th>\n",
       "      <th>column_name</th>\n",
       "      <th>percent_missing</th>\n",
       "    </tr>\n",
       "  </thead>\n",
       "  <tbody>\n",
       "    <tr>\n",
       "      <th>BDEP</th>\n",
       "      <td>BDEP</td>\n",
       "      <td>0.000000</td>\n",
       "    </tr>\n",
       "    <tr>\n",
       "      <th>TPO</th>\n",
       "      <td>TPO</td>\n",
       "      <td>0.031962</td>\n",
       "    </tr>\n",
       "    <tr>\n",
       "      <th>HL</th>\n",
       "      <td>HL</td>\n",
       "      <td>0.004917</td>\n",
       "    </tr>\n",
       "    <tr>\n",
       "      <th>BHT</th>\n",
       "      <td>BHT</td>\n",
       "      <td>0.036880</td>\n",
       "    </tr>\n",
       "    <tr>\n",
       "      <th>RPM</th>\n",
       "      <td>RPM</td>\n",
       "      <td>0.063924</td>\n",
       "    </tr>\n",
       "    <tr>\n",
       "      <th>TOR</th>\n",
       "      <td>TOR</td>\n",
       "      <td>0.041797</td>\n",
       "    </tr>\n",
       "    <tr>\n",
       "      <th>DEPT</th>\n",
       "      <td>DEPT</td>\n",
       "      <td>0.054090</td>\n",
       "    </tr>\n",
       "    <tr>\n",
       "      <th>WOB</th>\n",
       "      <td>WOB</td>\n",
       "      <td>0.054090</td>\n",
       "    </tr>\n",
       "  </tbody>\n",
       "</table>\n",
       "</div>"
      ],
      "text/plain": [
       "     column_name  percent_missing\n",
       "BDEP        BDEP         0.000000\n",
       "TPO          TPO         0.031962\n",
       "HL            HL         0.004917\n",
       "BHT          BHT         0.036880\n",
       "RPM          RPM         0.063924\n",
       "TOR          TOR         0.041797\n",
       "DEPT        DEPT         0.054090\n",
       "WOB          WOB         0.054090"
      ]
     },
     "execution_count": 8,
     "metadata": {},
     "output_type": "execute_result"
    }
   ],
   "source": [
    "percent_missing = df.isnull().sum() * 100 / len(df)\n",
    "pd.DataFrame({'column_name': df.columns,\n",
    "              'percent_missing': percent_missing})"
   ]
  },
  {
   "cell_type": "code",
   "execution_count": 9,
   "id": "cd4b03b3",
   "metadata": {},
   "outputs": [],
   "source": [
    "df.dropna(axis = 0, how='all', inplace=True)"
   ]
  },
  {
   "cell_type": "code",
   "execution_count": 10,
   "id": "03a5237d",
   "metadata": {},
   "outputs": [],
   "source": [
    "no_nan = df.dropna(axis = 0, how = 'any').copy()"
   ]
  },
  {
   "cell_type": "markdown",
   "id": "1d25993c",
   "metadata": {},
   "source": [
    "Most features have a tiny number of missing values. So, after removing rows containing only missing values, my fisrt approach will be filling these gaps with a arbitrary number so that the model may capture."
   ]
  },
  {
   "cell_type": "code",
   "execution_count": 11,
   "id": "36546c78",
   "metadata": {},
   "outputs": [],
   "source": [
    "for col in df.columns[1:]:\n",
    "    df[col].fillna(-3290, inplace=True)"
   ]
  },
  {
   "cell_type": "markdown",
   "id": "288f5bb1",
   "metadata": {},
   "source": [
    "### Exploratory Data Analysis (EDA)"
   ]
  },
  {
   "cell_type": "markdown",
   "id": "24ffb5ec",
   "metadata": {},
   "source": [
    "Before tackling the problem by creating a computational model, I go for a detailed exploratory data analysis (EDA). By doing so, I can categorize the failures according to the predictors, calculate the number of occurrences, check for possible unbalances in the target classes, get insights about feature importance, visualize outliers, and much more. This step is important for many reasons, but the one I'd like to emphasize here is that the EDA underlies my decisions when selecting the appropriate algorithms to create a model."
   ]
  },
  {
   "cell_type": "markdown",
   "id": "4de93667",
   "metadata": {},
   "source": [
    "#### Occurence Analysis"
   ]
  },
  {
   "cell_type": "markdown",
   "id": "2ad4fe0f",
   "metadata": {},
   "source": [
    "The occurrence analysis is quite simple: it examines the number of '*off_slips*' annotations against the number of '*on_slips*' annotations."
   ]
  },
  {
   "cell_type": "code",
   "execution_count": 12,
   "id": "7031f4d2",
   "metadata": {},
   "outputs": [
    {
     "data": {
      "image/png": "[encoded data removed]",
      "text/plain": [
       "<Figure size 432x432 with 1 Axes>"
      ]
     },
     "metadata": {},
     "output_type": "display_data"
    }
   ],
   "source": [
    "fig, ax = plt.subplots(1,1, figsize=(6,6))\n",
    "ax      = sns.countplot(data=annot, x='Annotation')\n",
    "display_percent_count_plot(ax, annot['Annotation'],1)\n",
    "plt.show()"
   ]
  },
  {
   "cell_type": "markdown",
   "id": "d4b63087",
   "metadata": {},
   "source": [
    "As we can see, data is quite balanced; up to now, we don't have to worry about imbalanced target classes."
   ]
  },
  {
   "cell_type": "markdown",
   "id": "d05ffd08",
   "metadata": {},
   "source": [
    "#### Numerical Features Analysis"
   ]
  },
  {
   "cell_type": "markdown",
   "id": "4fd41ecb",
   "metadata": {},
   "source": [
    "Now I evaluate the central and dispersion metrics of the numerical variables."
   ]
  },
  {
   "cell_type": "code",
   "execution_count": 13,
   "id": "49535fde",
   "metadata": {},
   "outputs": [],
   "source": [
    "## --- aggregating annotations according to the timestamp\n",
    "\n",
    "time0 = annot.index[0]\n",
    "df.loc[:time0, 'annot']     = annot.loc[time0].values[0]\n",
    "no_nan.loc[:time0, 'annot'] = annot.loc[time0].values[0]\n",
    "\n",
    "\n",
    "for time in annot.index[1:]:\n",
    "    df.loc[time0:time, 'annot']     = annot.loc[time].values[0]\n",
    "    no_nan.loc[time0:time, 'annot'] = annot.loc[time].values[0]\n",
    "    time0 = time\n",
    "    \n",
    "timef = annot.index[-1]\n",
    "\n",
    "df.loc[timef:, 'annot']     = annot.loc[timef].values[0]\n",
    "no_nan.loc[timef:, 'annot'] = annot.loc[timef].values[0]"
   ]
  },
  {
   "cell_type": "code",
   "execution_count": 14,
   "id": "c41e4f0a",
   "metadata": {},
   "outputs": [],
   "source": [
    "no_nan[no_nan.columns[:-1]] = no_nan[no_nan.columns[:-1]].astype(float)"
   ]
  },
  {
   "cell_type": "code",
   "execution_count": 15,
   "id": "4127d1b1",
   "metadata": {},
   "outputs": [
    {
     "data": {
      "image/png": "[encoded data removed]",
      "text/plain": [
       "<Figure size 864x1728 with 8 Axes>"
      ]
     },
     "metadata": {},
     "output_type": "display_data"
    }
   ],
   "source": [
    "fig, ax = plt.subplots(4, 2, figsize=(12,24))\n",
    "\n",
    "for col, axis in zip(no_nan.columns[:-1].values, ax.reshape(-1)):\n",
    "    sns.boxplot( data  = no_nan,\n",
    "                 x     = 'annot',\n",
    "                 y     = col,\n",
    "                 ax    = axis)"
   ]
  },
  {
   "cell_type": "markdown",
   "id": "37cab720",
   "metadata": {},
   "source": [
    "As we can see from the above visualizations, according to the central tendency metrics for each one of the features, the most important variables to categorize the equipment operation according to the state of the slips are **HL** and **WOB**. Further, the variables **RPM**, **TOR**, and **DEPT** seem to not vary expressively. Let's have a closer look at these features."
   ]
  },
  {
   "cell_type": "code",
   "execution_count": 16,
   "id": "5f59bd84",
   "metadata": {},
   "outputs": [
    {
     "data": {
      "text/plain": [
       "(array([0.]), array([0.]), array([5796.]))"
      ]
     },
     "execution_count": 16,
     "metadata": {},
     "output_type": "execute_result"
    }
   ],
   "source": [
    "no_nan['RPM'].unique(), no_nan['TOR'].unique(), no_nan['DEPT'].unique()"
   ]
  },
  {
   "cell_type": "markdown",
   "id": "9c366dbc",
   "metadata": {},
   "source": [
    "It turns out that these features do not vary at all. Certainly, these features may not be that important to develop the desired KPI. Despite that conclusion, I'm going to hold these predictors until my hypothesis get confirmed by the following analysis of feature relevance performed by ML algorithms."
   ]
  },
  {
   "cell_type": "markdown",
   "id": "63bb1cc8",
   "metadata": {},
   "source": [
    "## Relevance Analysis"
   ]
  },
  {
   "cell_type": "markdown",
   "id": "60116e78",
   "metadata": {},
   "source": [
    "In this section, I use three different approaches to categorize the measurements by *Annotation*. I show a grid containing four 2-dimensional graphs referring to the importance of variables using the following algorithms: Logistic Regression, Random Forest Classifier and PCA. Furthermore, I show the explanatory cumulative variance given by the PCA algorithm, as well as the linear combination coefficients of the constructed principal components. "
   ]
  },
  {
   "cell_type": "code",
   "execution_count": 17,
   "id": "4f4f10e9",
   "metadata": {},
   "outputs": [
    {
     "data": {
      "text/html": [
       "<div>\n",
       "<style scoped>\n",
       "    .dataframe tbody tr th:only-of-type {\n",
       "        vertical-align: middle;\n",
       "    }\n",
       "\n",
       "    .dataframe tbody tr th {\n",
       "        vertical-align: top;\n",
       "    }\n",
       "\n",
       "    .dataframe thead th {\n",
       "        text-align: right;\n",
       "    }\n",
       "</style>\n",
       "<table border=\"1\" class=\"dataframe\">\n",
       "  <thead>\n",
       "    <tr style=\"text-align: right;\">\n",
       "      <th></th>\n",
       "      <th>PC1</th>\n",
       "      <th>PC2</th>\n",
       "      <th>PC3</th>\n",
       "      <th>PC4</th>\n",
       "      <th>PC5</th>\n",
       "      <th>PC6</th>\n",
       "      <th>PC7</th>\n",
       "      <th>PC8</th>\n",
       "    </tr>\n",
       "  </thead>\n",
       "  <tbody>\n",
       "    <tr>\n",
       "      <th>BDEP</th>\n",
       "      <td>-0.141862</td>\n",
       "      <td>0.786060</td>\n",
       "      <td>0.132758</td>\n",
       "      <td>-0.586810</td>\n",
       "      <td>-0.006205</td>\n",
       "      <td>0.0</td>\n",
       "      <td>0.0</td>\n",
       "      <td>0.0</td>\n",
       "    </tr>\n",
       "    <tr>\n",
       "      <th>TPO</th>\n",
       "      <td>-0.033664</td>\n",
       "      <td>0.754743</td>\n",
       "      <td>-0.115787</td>\n",
       "      <td>0.644863</td>\n",
       "      <td>-0.000044</td>\n",
       "      <td>0.0</td>\n",
       "      <td>0.0</td>\n",
       "      <td>0.0</td>\n",
       "    </tr>\n",
       "    <tr>\n",
       "      <th>HL</th>\n",
       "      <td>-0.972580</td>\n",
       "      <td>0.050127</td>\n",
       "      <td>-0.206533</td>\n",
       "      <td>-0.091706</td>\n",
       "      <td>0.023098</td>\n",
       "      <td>0.0</td>\n",
       "      <td>0.0</td>\n",
       "      <td>0.0</td>\n",
       "    </tr>\n",
       "    <tr>\n",
       "      <th>BHT</th>\n",
       "      <td>-0.498126</td>\n",
       "      <td>-0.056267</td>\n",
       "      <td>0.846995</td>\n",
       "      <td>0.177001</td>\n",
       "      <td>-0.000031</td>\n",
       "      <td>0.0</td>\n",
       "      <td>0.0</td>\n",
       "      <td>0.0</td>\n",
       "    </tr>\n",
       "    <tr>\n",
       "      <th>RPM</th>\n",
       "      <td>0.000000</td>\n",
       "      <td>0.000000</td>\n",
       "      <td>-0.000000</td>\n",
       "      <td>-0.000000</td>\n",
       "      <td>0.000000</td>\n",
       "      <td>0.0</td>\n",
       "      <td>0.0</td>\n",
       "      <td>0.0</td>\n",
       "    </tr>\n",
       "    <tr>\n",
       "      <th>TOR</th>\n",
       "      <td>0.000000</td>\n",
       "      <td>0.000000</td>\n",
       "      <td>-0.000000</td>\n",
       "      <td>-0.000000</td>\n",
       "      <td>0.000000</td>\n",
       "      <td>0.0</td>\n",
       "      <td>0.0</td>\n",
       "      <td>0.0</td>\n",
       "    </tr>\n",
       "    <tr>\n",
       "      <th>DEPT</th>\n",
       "      <td>0.000000</td>\n",
       "      <td>0.000000</td>\n",
       "      <td>-0.000000</td>\n",
       "      <td>-0.000000</td>\n",
       "      <td>0.000000</td>\n",
       "      <td>0.0</td>\n",
       "      <td>0.0</td>\n",
       "      <td>0.0</td>\n",
       "    </tr>\n",
       "    <tr>\n",
       "      <th>WOB</th>\n",
       "      <td>0.952016</td>\n",
       "      <td>0.165589</td>\n",
       "      <td>0.247869</td>\n",
       "      <td>-0.065714</td>\n",
       "      <td>0.022654</td>\n",
       "      <td>0.0</td>\n",
       "      <td>0.0</td>\n",
       "      <td>0.0</td>\n",
       "    </tr>\n",
       "  </tbody>\n",
       "</table>\n",
       "</div>"
      ],
      "text/plain": [
       "           PC1       PC2       PC3       PC4       PC5  PC6  PC7  PC8\n",
       "BDEP -0.141862  0.786060  0.132758 -0.586810 -0.006205  0.0  0.0  0.0\n",
       "TPO  -0.033664  0.754743 -0.115787  0.644863 -0.000044  0.0  0.0  0.0\n",
       "HL   -0.972580  0.050127 -0.206533 -0.091706  0.023098  0.0  0.0  0.0\n",
       "BHT  -0.498126 -0.056267  0.846995  0.177001 -0.000031  0.0  0.0  0.0\n",
       "RPM   0.000000  0.000000 -0.000000 -0.000000  0.000000  0.0  0.0  0.0\n",
       "TOR   0.000000  0.000000 -0.000000 -0.000000  0.000000  0.0  0.0  0.0\n",
       "DEPT  0.000000  0.000000 -0.000000 -0.000000  0.000000  0.0  0.0  0.0\n",
       "WOB   0.952016  0.165589  0.247869 -0.065714  0.022654  0.0  0.0  0.0"
      ]
     },
     "execution_count": 17,
     "metadata": {},
     "output_type": "execute_result"
    },
    {
     "data": {
      "image/png": "[encoded data removed]",
      "text/plain": [
       "<Figure size 864x864 with 4 Axes>"
      ]
     },
     "metadata": {},
     "output_type": "display_data"
    }
   ],
   "source": [
    "X = no_nan.drop(['annot'], axis=1).copy()\n",
    "y = no_nan['annot'].apply(lambda x: 0 if x == 'off_slips' else 1).astype('int8')\n",
    "\n",
    "fig, ax  = plt.subplots(2,2,figsize=(12,12))\n",
    "loadings = display_feat_import(X, y, ax)\n",
    "plt.subplots_adjust(hspace=0.4)\n",
    "loadings"
   ]
  },
  {
   "cell_type": "markdown",
   "id": "c72dec28",
   "metadata": {},
   "source": [
    "As we can see from above, all the approaches to determine the relevance of the features indicated that **RPM**, **TOR**, and **DEPT** play no role to categorize the state of the slips; this confirms my previous observations.\n",
    "\n",
    "Furthermore, all methods indicated that the variable **TPO** is almost not important considering our goal. Finally, the cumulative explanatory variance tells us that the first three principal components are sufficient to describe one hundred per cent of the variation in the target variable.\n",
    "\n",
    "Having said this, I'm going on without the three least important features, namely, **RPM**, **TOR**, and **DEPT**."
   ]
  },
  {
   "cell_type": "code",
   "execution_count": 18,
   "id": "a49d44ec",
   "metadata": {},
   "outputs": [],
   "source": [
    "df.drop(['RPM', 'TOR', 'DEPT'], axis=1, inplace=True)\n",
    "no_nan.drop(['RPM', 'TOR', 'DEPT'], axis=1, inplace=True)"
   ]
  },
  {
   "cell_type": "markdown",
   "id": "40fc6b4e",
   "metadata": {},
   "source": [
    "## Correlation Analysis"
   ]
  },
  {
   "cell_type": "markdown",
   "id": "740a8a0e",
   "metadata": {},
   "source": [
    "Here we check for correlations between predictors, and how the numerical values of the predictors are distributed.\n"
   ]
  },
  {
   "cell_type": "code",
   "execution_count": 19,
   "id": "c156138c",
   "metadata": {},
   "outputs": [],
   "source": [
    "## --- Pair Plot\n",
    "sns.pairplot(data      = no_nan, \n",
    "             hue       = 'annot', \n",
    "             kind      = 'kde', \n",
    "             diag_kind = 'kde', \n",
    "             corner    = True)"
   ]
  },
  {
   "cell_type": "markdown",
   "id": "8d9902c8",
   "metadata": {},
   "source": [
    "First, the above pair plot confirms our previous analysis of relevance.\n",
    "\n",
    "Additionally, most of the distributions are not bell-shaped and some of them are left-skewed; it indicates that performing some transformation on the training data may improve the model accuracy. \n",
    "\n",
    "Furthermore, the distributions for the variable **BHT**, which is still important for classification, overlap; choosing a tree-based model may address well this issue."
   ]
  },
  {
   "cell_type": "code",
   "execution_count": 20,
   "id": "ef3114c1",
   "metadata": {},
   "outputs": [
    {
     "data": {
      "text/plain": [
       "<AxesSubplot:>"
      ]
     },
     "execution_count": 20,
     "metadata": {},
     "output_type": "execute_result"
    },
    {
     "data": {
      "image/png": "[encoded data removed]",
      "text/plain": [
       "<Figure size 576x504 with 2 Axes>"
      ]
     },
     "metadata": {},
     "output_type": "display_data"
    }
   ],
   "source": [
    "## --- Correlation Matrix\n",
    "fig, ax = plt.subplots(1,1,figsize=(8,7))\n",
    "\n",
    "sns.heatmap( no_nan.drop('annot', axis=1).corr(), annot=True, ax=ax)"
   ]
  },
  {
   "cell_type": "markdown",
   "id": "7a5d1583",
   "metadata": {},
   "source": [
    "As we can see from the correlation matrix, most of the variables are almost uncorrelated with each other. This suggests that a Naive Bayes model could do well in this classification task. \n",
    "\n",
    "On the other hand, the features **HL** and **WOB** are extremely correlated. This indicates that perhaps creating new variables from these can help in enhancing the model's performance. But before that, I'm going to select the baseline model without playing with the features."
   ]
  },
  {
   "cell_type": "markdown",
   "id": "dde9f55b",
   "metadata": {},
   "source": [
    "## Base Line Models"
   ]
  },
  {
   "cell_type": "markdown",
   "id": "5dbd380e",
   "metadata": {},
   "source": [
    "#### Supervised learning models"
   ]
  },
  {
   "cell_type": "markdown",
   "id": "29fd8971",
   "metadata": {},
   "source": [
    "To define the baseline supervised learning model, I will evaluate the performance of the following classification algorithms:  **RandomForestClassifier**, **LogisticRegression**, **SVC**, **GaussianNB**, **XGBClassifier**, **LGBMClassifier**. "
   ]
  },
  {
   "cell_type": "code",
   "execution_count": 21,
   "id": "f1eafa2e",
   "metadata": {},
   "outputs": [
    {
     "name": "stdout",
     "output_type": "stream",
     "text": [
      "[14:03:50] WARNING: ../src/learner.cc:1115: Starting in XGBoost 1.3.0, the default evaluation metric used with the objective 'binary:logistic' was changed from 'error' to 'logloss'. Explicitly set eval_metric if you'd like to restore the old behavior.\n"
     ]
    },
    {
     "data": {
      "text/html": [
       "<div>\n",
       "<style scoped>\n",
       "    .dataframe tbody tr th:only-of-type {\n",
       "        vertical-align: middle;\n",
       "    }\n",
       "\n",
       "    .dataframe tbody tr th {\n",
       "        vertical-align: top;\n",
       "    }\n",
       "\n",
       "    .dataframe thead th {\n",
       "        text-align: right;\n",
       "    }\n",
       "</style>\n",
       "<table border=\"1\" class=\"dataframe\">\n",
       "  <thead>\n",
       "    <tr style=\"text-align: right;\">\n",
       "      <th></th>\n",
       "      <th>Model</th>\n",
       "      <th>Accuracy</th>\n",
       "      <th>Precision</th>\n",
       "      <th>Recall</th>\n",
       "      <th>F1 Score</th>\n",
       "    </tr>\n",
       "  </thead>\n",
       "  <tbody>\n",
       "    <tr>\n",
       "      <th>0</th>\n",
       "      <td>RandomForestClassifier</td>\n",
       "      <td>0.992624</td>\n",
       "      <td>0.994891</td>\n",
       "      <td>0.994166</td>\n",
       "      <td>0.994529</td>\n",
       "    </tr>\n",
       "    <tr>\n",
       "      <th>1</th>\n",
       "      <td>LogisticRegression</td>\n",
       "      <td>0.978119</td>\n",
       "      <td>0.975452</td>\n",
       "      <td>0.992525</td>\n",
       "      <td>0.983915</td>\n",
       "    </tr>\n",
       "    <tr>\n",
       "      <th>2</th>\n",
       "      <td>SVC</td>\n",
       "      <td>0.977382</td>\n",
       "      <td>0.973896</td>\n",
       "      <td>0.993072</td>\n",
       "      <td>0.983391</td>\n",
       "    </tr>\n",
       "    <tr>\n",
       "      <th>3</th>\n",
       "      <td>GaussianNB</td>\n",
       "      <td>0.977259</td>\n",
       "      <td>0.974400</td>\n",
       "      <td>0.992343</td>\n",
       "      <td>0.983290</td>\n",
       "    </tr>\n",
       "    <tr>\n",
       "      <th>4</th>\n",
       "      <td>XGBClassifier</td>\n",
       "      <td>0.995943</td>\n",
       "      <td>0.997082</td>\n",
       "      <td>0.996901</td>\n",
       "      <td>0.996992</td>\n",
       "    </tr>\n",
       "    <tr>\n",
       "      <th>5</th>\n",
       "      <td>LGBMClassifier</td>\n",
       "      <td>0.996066</td>\n",
       "      <td>0.997809</td>\n",
       "      <td>0.996354</td>\n",
       "      <td>0.997081</td>\n",
       "    </tr>\n",
       "  </tbody>\n",
       "</table>\n",
       "</div>"
      ],
      "text/plain": [
       "                    Model  Accuracy  Precision    Recall  F1 Score\n",
       "0  RandomForestClassifier  0.992624   0.994891  0.994166  0.994529\n",
       "1      LogisticRegression  0.978119   0.975452  0.992525  0.983915\n",
       "2                     SVC  0.977382   0.973896  0.993072  0.983391\n",
       "3              GaussianNB  0.977259   0.974400  0.992343  0.983290\n",
       "4           XGBClassifier  0.995943   0.997082  0.996901  0.996992\n",
       "5          LGBMClassifier  0.996066   0.997809  0.996354  0.997081"
      ]
     },
     "execution_count": 21,
     "metadata": {},
     "output_type": "execute_result"
    }
   ],
   "source": [
    "algo  = [RandomForestClassifier(), LogisticRegression(), SVC(), \n",
    "         GaussianNB(), XGBClassifier(), LGBMClassifier()]\n",
    "score = []\n",
    "\n",
    "    \n",
    "X = df.drop(['annot'], axis=1).copy()\n",
    "y = df['annot'].apply(lambda x: 0 if x == 'off_slips' else 1).astype('int8')\n",
    "\n",
    "X_train, X_test, y_train, y_test = train_test_split(X, y, test_size=0.2, random_state=42)\n",
    "\n",
    "for a in algo:\n",
    "    a.fit(X_train, y_train)\n",
    "    y_pred = a.predict(X_test)\n",
    "    score.append([a.__class__.__name__,\n",
    "                 accuracy_score(y_test, y_pred), \n",
    "                 precision_score(y_test, y_pred),\n",
    "                 recall_score(y_test, y_pred),\n",
    "                 f1_score(y_test, y_pred)])\n",
    "\n",
    "## --- show scores as tabular data\n",
    "pd.DataFrame(score, columns=['Model', 'Accuracy', 'Precision', 'Recall', 'F1 Score'])\n"
   ]
  },
  {
   "cell_type": "markdown",
   "id": "1885b414",
   "metadata": {},
   "source": [
    "Most models excelled in classifying correctly the state of the slips but, as I expected, tree-based models outperformed all the other algorithms. These kind of models are less sensitive to outliers.\n",
    "\n",
    "From now on, I'll use the LGBMClassifier."
   ]
  },
  {
   "cell_type": "markdown",
   "id": "52c29c73",
   "metadata": {},
   "source": [
    "##### Evaluating the LGBMClassifier"
   ]
  },
  {
   "cell_type": "markdown",
   "id": "a043535d",
   "metadata": {},
   "source": [
    "Let's have a look at the confusion matrix and the classification report for the selected model."
   ]
  },
  {
   "cell_type": "code",
   "execution_count": 22,
   "id": "154995d6",
   "metadata": {},
   "outputs": [],
   "source": [
    "clf    = LGBMClassifier()\n",
    "clf. fit(X_train, y_train)\n",
    "y_pred = clf.predict(X_test)"
   ]
  },
  {
   "cell_type": "code",
   "execution_count": 23,
   "id": "07e6fb4c",
   "metadata": {},
   "outputs": [
    {
     "data": {
      "image/png": "[encoded data removed]",
      "text/plain": [
       "<Figure size 504x504 with 1 Axes>"
      ]
     },
     "metadata": {},
     "output_type": "display_data"
    }
   ],
   "source": [
    "## --- Confusion Matrix\n",
    "\n",
    "fig, ax = plt.subplots(1,1, figsize=(7,7))\n",
    "\n",
    "cm = confusion_matrix(y_test, y_pred)\n",
    "sns.heatmap(cm, annot=cf_matrix_labels(cm), fmt='', cmap='Blues', ax=ax, cbar=False)\n",
    "ax.set_xlabel('Predicted Label')\n",
    "ax.set_ylabel('True Label')\n",
    "ax.set_title('XGBClassifier')\n",
    "\n",
    "plt.subplots_adjust(hspace=0.3)"
   ]
  },
  {
   "cell_type": "markdown",
   "id": "210dcc1a",
   "metadata": {},
   "source": [
    "From the confusion matrix above and the classification report below, we can state that the model is pretty reliable in classifying both classes."
   ]
  },
  {
   "cell_type": "code",
   "execution_count": 24,
   "id": "5e200bf9",
   "metadata": {},
   "outputs": [
    {
     "name": "stdout",
     "output_type": "stream",
     "text": [
      "LGBMClassifier\n",
      "              precision    recall  f1-score   support\n",
      "\n",
      "   off_slips       0.99      1.00      0.99      2650\n",
      "    on_slips       1.00      1.00      1.00      5485\n",
      "\n",
      "    accuracy                           1.00      8135\n",
      "   macro avg       1.00      1.00      1.00      8135\n",
      "weighted avg       1.00      1.00      1.00      8135\n",
      "\n",
      "\n",
      "\n"
     ]
    }
   ],
   "source": [
    "print('LGBMClassifier')\n",
    "print(classification_report(y_test, y_pred, target_names=['off_slips', 'on_slips']))\n",
    "print('\\n')"
   ]
  },
  {
   "cell_type": "markdown",
   "id": "9844d852",
   "metadata": {},
   "source": [
    "#### Unsupervised learning models"
   ]
  },
  {
   "cell_type": "markdown",
   "id": "0a3e8fec",
   "metadata": {},
   "source": [
    "To define the baseline unsupervised learning model, I will evaluate the performance of the **K-means Clustering** classification algorithm"
   ]
  },
  {
   "cell_type": "code",
   "execution_count": 25,
   "id": "451ad5f9",
   "metadata": {},
   "outputs": [
    {
     "data": {
      "text/html": [
       "<div>\n",
       "<style scoped>\n",
       "    .dataframe tbody tr th:only-of-type {\n",
       "        vertical-align: middle;\n",
       "    }\n",
       "\n",
       "    .dataframe tbody tr th {\n",
       "        vertical-align: top;\n",
       "    }\n",
       "\n",
       "    .dataframe thead th {\n",
       "        text-align: right;\n",
       "    }\n",
       "</style>\n",
       "<table border=\"1\" class=\"dataframe\">\n",
       "  <thead>\n",
       "    <tr style=\"text-align: right;\">\n",
       "      <th></th>\n",
       "      <th>Model</th>\n",
       "      <th>Accuracy</th>\n",
       "      <th>Precision</th>\n",
       "      <th>Recall</th>\n",
       "      <th>F1 Score</th>\n",
       "    </tr>\n",
       "  </thead>\n",
       "  <tbody>\n",
       "    <tr>\n",
       "      <th>0</th>\n",
       "      <td>KMeans</td>\n",
       "      <td>0.532614</td>\n",
       "      <td>0.679136</td>\n",
       "      <td>0.573975</td>\n",
       "      <td>0.622143</td>\n",
       "    </tr>\n",
       "  </tbody>\n",
       "</table>\n",
       "</div>"
      ],
      "text/plain": [
       "    Model  Accuracy  Precision    Recall  F1 Score\n",
       "0  KMeans  0.532614   0.679136  0.573975  0.622143"
      ]
     },
     "execution_count": 25,
     "metadata": {},
     "output_type": "execute_result"
    }
   ],
   "source": [
    "algo  = [ KMeans(n_clusters=2, copy_x=False, random_state=42)]\n",
    "score = []\n",
    "    \n",
    "X      = df.drop(['annot'], axis=1).copy()\n",
    "y_test = df['annot'].apply(lambda x: 0 if x == 'off_slips' else 1).astype('int8')\n",
    "\n",
    "\n",
    "for a in algo:\n",
    "\n",
    "    a.fit(X)\n",
    "    y_pred = pd.Series(a.predict(X)).apply(lambda x: 0 if x == 1 else 1).astype('int8')\n",
    "    score.append([a.__class__.__name__,\n",
    "                 accuracy_score(y_test, y_pred), \n",
    "                 precision_score(y_test, y_pred),\n",
    "                 recall_score(y_test, y_pred),\n",
    "                 f1_score(y_test, y_pred)])\n",
    "\n",
    "## --- show scores as tabular data\n",
    "pd.DataFrame(score, columns=['Model', 'Accuracy', 'Precision', 'Recall', 'F1 Score'])\n"
   ]
  },
  {
   "cell_type": "markdown",
   "id": "7633d975",
   "metadata": {},
   "source": [
    "According to the above results, this model may not be a good fit for a baseline model. Although its performance could be augmented, we already have a supervised learning model that performs quite well; there's no point in spending time with an unsupervised model. \n",
    "\n",
    "Further, unsupervised learning models have some cons: \n",
    "1) The results might be less accurate as we do not have any input data to train from. The model is learning from raw data without any prior knowledge.\n",
    "\n",
    "2) It is also a time-consuming process. The learning phase of the algorithm might take a lot of time, as it analyses and calculates all possibilities.\n",
    "\n",
    "3) For some projects involving live data, which may be the case, it might require continuous feeding of data to the model, which will result in both inaccurate and time-consuming results."
   ]
  },
  {
   "cell_type": "markdown",
   "id": "c03a1576",
   "metadata": {},
   "source": [
    "## Feature Engineering"
   ]
  },
  {
   "cell_type": "markdown",
   "id": "b846d70c",
   "metadata": {},
   "source": [
    "Now I go for improving the performance of the LGBMClassifier by working with the features we have. To give me more reliability on the resulting scores, I'm performing a 5-fold cross validation from now on.\n",
    "\n",
    "Since the features **WOB** and **HL** are extremelly correlated, I propose creating a new variable called **WOBHL_ratio** which is simply $WOB/HL$.\n",
    "\n"
   ]
  },
  {
   "cell_type": "code",
   "execution_count": 26,
   "id": "850e9569",
   "metadata": {},
   "outputs": [],
   "source": [
    "bckup_df = df.copy()\n",
    "bckup_df['WOBHL_ratio'] = bckup_df['WOB']/bckup_df['HL']\n",
    "bckup_df.drop(['WOB','HL'], axis=1, inplace=True)"
   ]
  },
  {
   "cell_type": "code",
   "execution_count": 27,
   "id": "0889ff49",
   "metadata": {},
   "outputs": [
    {
     "data": {
      "text/plain": [
       "0.995697364171637"
      ]
     },
     "execution_count": 27,
     "metadata": {},
     "output_type": "execute_result"
    }
   ],
   "source": [
    "X = bckup_df.drop(['annot'], axis=1).copy()\n",
    "y = bckup_df['annot'].apply(lambda x: 0 if x == 'off_slips' else 1).astype('int8')\n",
    "\n",
    "\n",
    "kf = KFold(n_splits=5, random_state=3, shuffle=True)\n",
    "\n",
    "xval_err = 0\n",
    "\n",
    "for train_index, test_index in kf.split(bckup_df):\n",
    "    X_train, X_test = X.iloc[train_index,:], X.iloc[test_index,:]\n",
    "    y_train, y_test = y.iloc[train_index], y.iloc[test_index]\n",
    "    \n",
    "    clf = LGBMClassifier()\n",
    "    clf. fit(X_train, y_train)\n",
    "    y_pred = clf.predict(X_test)\n",
    "    \n",
    "    xval_err += accuracy_score(y_test, y_pred)\n",
    "\n",
    "accur_5cv = xval_err/5\n",
    "accur_5cv\n"
   ]
  },
  {
   "cell_type": "markdown",
   "id": "d715c98d",
   "metadata": {},
   "source": [
    "As one could expect, there's no improvement, since tree-based models have an innate feature of being robust to correlated features. On the other hand, this may improve the performance of other kinds of models such as the GaussianNB classifier, for instance.\n",
    "\n",
    "Additionally, we could benefit from removing the least important feature namely, TOP, since it plays almost no role in the model performance. That'd make the model simpler and faster.\n"
   ]
  },
  {
   "cell_type": "markdown",
   "id": "e6128f8a",
   "metadata": {},
   "source": [
    "## Hyperparameter Fine Tuning"
   ]
  },
  {
   "cell_type": "markdown",
   "id": "f03fa2a0",
   "metadata": {},
   "source": [
    "Finally, I will fine-tune the LGBMClassifier algorithm to find the parameter combination that delivers the best possible performance. The best possible performance is the one that gives the highest f1 score since that to have a good KPI we need both to detect whenever the slip-to-slip connection changes its state, and give accurate indications about the connection state."
   ]
  },
  {
   "cell_type": "code",
   "execution_count": 28,
   "id": "2617eebf",
   "metadata": {},
   "outputs": [],
   "source": [
    "param_grid = {'n_estimators'       : [50,70,90],  \n",
    "              'max_depth'          : [-1,5,10],\n",
    "              'learning_rate'      : [0.95,0.1,1.15],\n",
    "              'boosting_type'      : ['gbdt','goss','dart', 'rf']\n",
    "             }\n",
    "                \n",
    "grid = GridSearchCV(LGBMClassifier(), \n",
    "                    param_grid, \n",
    "                    refit   = True, \n",
    "                    verbose = 3, \n",
    "                    n_jobs  = -1, \n",
    "                    scoring ='f1') \n",
    "\n",
    "## --- fitting GridSearch\n",
    "grid_result = grid.fit(X, y)\n",
    "best_params = grid_result.best_params_\n",
    "print(best_params)"
   ]
  },
  {
   "cell_type": "markdown",
   "id": "e1d61c3a",
   "metadata": {},
   "source": [
    "Let's see the final performance."
   ]
  },
  {
   "cell_type": "code",
   "execution_count": 29,
   "id": "0f9ec113",
   "metadata": {},
   "outputs": [
    {
     "data": {
      "text/plain": [
       "0.995395936156147"
      ]
     },
     "execution_count": 29,
     "metadata": {},
     "output_type": "execute_result"
    }
   ],
   "source": [
    "X = bckup_df.drop(['annot'], axis=1).copy()\n",
    "y = bckup_df['annot'].apply(lambda x: 0 if x == 'off_slips' else 1).astype('int8')\n",
    "\n",
    "\n",
    "kf = KFold(n_splits=5, random_state=3, shuffle=True)\n",
    "\n",
    "xval_err = 0\n",
    "\n",
    "for train_index, test_index in kf.split(bckup_df):\n",
    "    X_train, X_test = X.iloc[train_index,:], X.iloc[test_index,:]\n",
    "    y_train, y_test = y.iloc[train_index], y.iloc[test_index]\n",
    "    \n",
    "    clf = LGBMClassifier(n_estimators  = 50, \n",
    "                         max_depth     = 10, \n",
    "                         learning_rate = 0.1,\n",
    "                         boosting_type = 'dart')\n",
    "    clf. fit(X_train, y_train)\n",
    "    y_pred = clf.predict(X_test)\n",
    "    \n",
    "    xval_err += f1_score(y_test, y_pred)\n",
    "\n",
    "f1_5cv = xval_err/5\n",
    "f1_5cv\n"
   ]
  },
  {
   "cell_type": "code",
   "execution_count": 30,
   "id": "e9dd1e95",
   "metadata": {},
   "outputs": [
    {
     "name": "stdout",
     "output_type": "stream",
     "text": [
      "LGBMClassifier\n",
      "              precision    recall  f1-score   support\n",
      "\n",
      "   off_slips       0.99      0.99      0.99      2739\n",
      "    on_slips       1.00      0.99      0.99      5395\n",
      "\n",
      "    accuracy                           0.99      8134\n",
      "   macro avg       0.99      0.99      0.99      8134\n",
      "weighted avg       0.99      0.99      0.99      8134\n",
      "\n",
      "\n",
      "\n"
     ]
    }
   ],
   "source": [
    "print('LGBMClassifier')\n",
    "print(classification_report(y_test, y_pred, target_names=['off_slips', 'on_slips']))\n",
    "print('\\n')"
   ]
  },
  {
   "cell_type": "code",
   "execution_count": 31,
   "id": "1298223f",
   "metadata": {},
   "outputs": [
    {
     "data": {
      "image/png": "[encoded data removed]",
      "text/plain": [
       "<Figure size 504x504 with 1 Axes>"
      ]
     },
     "metadata": {},
     "output_type": "display_data"
    }
   ],
   "source": [
    "## --- Confusion Matrix\n",
    "\n",
    "fig, ax = plt.subplots(1,1, figsize=(7,7))\n",
    "\n",
    "cm = confusion_matrix(y_test, y_pred)\n",
    "sns.heatmap(cm, annot=cf_matrix_labels(cm), fmt='', cmap='Blues', ax=ax, cbar=False)\n",
    "ax.set_xlabel('Predicted Label')\n",
    "ax.set_ylabel('True Label')\n",
    "ax.set_title('XGBClassifier')\n",
    "\n",
    "plt.subplots_adjust(hspace=0.3)"
   ]
  },
  {
   "cell_type": "markdown",
   "id": "965b9f34",
   "metadata": {},
   "source": [
    "## Using the Model to Create a KPI"
   ]
  },
  {
   "cell_type": "markdown",
   "id": "45229e3d",
   "metadata": {},
   "source": [
    "At this point we are able to estimate the slip-to-slip connection time using the developed model. I start by calculating the average time in slips according to the labeled given data."
   ]
  },
  {
   "cell_type": "code",
   "execution_count": 32,
   "id": "a84e0382",
   "metadata": {},
   "outputs": [],
   "source": [
    "## --- selecting the indexes of groups where 'on_slips' is True\n",
    "\n",
    "group = []\n",
    "indxs = []\n",
    "for index, row in bckup_df.iterrows():\n",
    "    if row['annot'] == 'on_slips':\n",
    "        group.append(index)\n",
    "    else:\n",
    "        indxs.append(group)\n",
    "        group = []\n",
    "\n",
    "sel   = pd.Series(indxs).apply(lambda x: x != [])\n",
    "indxs = np.array(indxs)[sel]"
   ]
  },
  {
   "cell_type": "code",
   "execution_count": 33,
   "id": "51583009",
   "metadata": {},
   "outputs": [
    {
     "name": "stdout",
     "output_type": "stream",
     "text": [
      "Average time in slips 251.995 s\n"
     ]
    }
   ],
   "source": [
    "## --- Calculating the average time in slips\n",
    "avg = 0\n",
    "for l in indxs:\n",
    "    avg += l[-1] - l[0]\n",
    "\n",
    "print('Average time in slips %.3f s' % (avg/len(indxs)*1e-3))"
   ]
  },
  {
   "cell_type": "markdown",
   "id": "0cae33db",
   "metadata": {},
   "source": [
    "Now I use the model to make predictions."
   ]
  },
  {
   "cell_type": "code",
   "execution_count": 35,
   "id": "ab940546",
   "metadata": {},
   "outputs": [],
   "source": [
    "clf = LGBMClassifier(n_estimators  = 50, \n",
    "                     max_depth     = 10, \n",
    "                     learning_rate = 0.1,\n",
    "                     boosting_type = 'dart')\n",
    "\n",
    "X = bckup_df.drop('annot', axis=1).copy()\n",
    "y = bckup_df['annot'].apply(lambda x: 0 if x == 'off_slips' else 1).astype('int8')\n",
    "\n",
    "X_train, X_test, y_train, y_test = train_test_split(X, y, \n",
    "                                                    test_size    = 0.1, \n",
    "                                                    random_state = 42)\n",
    "\n",
    "\n",
    "clf.fit(X_train, y_train)\n",
    "bckup_df['annot'] = clf.predict(bckup_df.drop('annot', axis=1).copy())"
   ]
  },
  {
   "cell_type": "code",
   "execution_count": 36,
   "id": "b84066a4",
   "metadata": {},
   "outputs": [],
   "source": [
    "## --- selecting the indexes of groups where 'on_slips' is True\n",
    "\n",
    "group = []\n",
    "indxs = []\n",
    "for index, row in bckup_df.iterrows():\n",
    "    if row['annot'] == 1:\n",
    "        group.append(index)\n",
    "    else:\n",
    "        indxs.append(group)\n",
    "        group = []\n",
    "\n",
    "sel   = pd.Series(indxs).apply(lambda x: x != [])\n",
    "indxs = np.array(indxs)[sel]"
   ]
  },
  {
   "cell_type": "code",
   "execution_count": 37,
   "id": "b0ea5e66",
   "metadata": {},
   "outputs": [
    {
     "name": "stdout",
     "output_type": "stream",
     "text": [
      "Average time in slips 222.987 (s)\n"
     ]
    }
   ],
   "source": [
    "## --- Calculating the average time in slips\n",
    "avg = 0\n",
    "for l in indxs:\n",
    "    avg += l[-1] - l[0]\n",
    "\n",
    "print('Average time in slips %.3f (s)' % (avg/len(indxs)*1e-3))"
   ]
  },
  {
   "cell_type": "markdown",
   "id": "bd7a4db9",
   "metadata": {},
   "source": [
    "The predicted average time in slips obtained from the model's predictions deviates about 10% from the previously calculated value. Although this seems to be a good performance, this result might not be taken too seriously; it'd be better to evaluate this performance on previously unseen labelled data. This could be achieved by separating part of the given data set as validation data."
   ]
  },
  {
   "cell_type": "markdown",
   "id": "061301c7",
   "metadata": {},
   "source": [
    "## Concluding Remarks"
   ]
  },
  {
   "cell_type": "markdown",
   "id": "6dc06b0b",
   "metadata": {},
   "source": [
    "After performing an exploratory data analysis, the statistical metrics showed us which features are the most important considering the goal of this project. Subsequently, my findings were confirmed by the relevance analysis performed by machine learning; the features TOR, DEPT, and RPM can be removed to simplify the final model.\n",
    "\n",
    "Besides that, the correlation analysis told us that most features are extremely uncorrelated, which gave me an idea of which algorithms I should select to start the modelling. The finds suggested that tree-based models would be a good fit for the task, which was confirmed by the classification reports.\n",
    "\n",
    "In summary, the supervised learning algorithm LGBMClassifier outperformed all the other tested algorithms including the unsupervised-learning one K-Means Clustering. From the evaluation metrics, we can safely say that, considering the given data, the model can accurately capture the operational state of the slips with 99% precision. The estimated average connection time deviates only 10% from the connection time calculated with the labelled data.\n",
    "\n",
    "Finally, the developed solution seems to be reliable and can be used for automated monitoring of performance on drilling operations for any O&G industry."
   ]
  },
  {
   "cell_type": "markdown",
   "id": "f9463c75",
   "metadata": {},
   "source": [
    "#### Possible next steps"
   ]
  },
  {
   "cell_type": "markdown",
   "id": "09940711",
   "metadata": {},
   "source": [
    "As a possible next step, if I had more time, I'd put this model in production on a cloud environment so that it can receive requests from other applications to stream predictions and deliver the wanted KPI. \n",
    "\n",
    "Additionally, I'd like to evaluate how this model would perform on previously unseen data."
   ]
  }
 ],
 "metadata": {
  "kernelspec": {
   "display_name": "Python 3 (ipykernel)",
   "language": "python",
   "name": "python3"
  },
  "language_info": {
   "codemirror_mode": {
    "name": "ipython",
    "version": 3
   },
   "file_extension": ".py",
   "mimetype": "text/x-python",
   "name": "python",
   "nbconvert_exporter": "python",
   "pygments_lexer": "ipython3",
   "version": "3.7.11"
  }
 },
 "nbformat": 4,
 "nbformat_minor": 5
}
